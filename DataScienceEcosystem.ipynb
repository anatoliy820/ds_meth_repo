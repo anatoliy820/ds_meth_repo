{
 "cells": [
  {
   "cell_type": "markdown",
   "id": "9f5072e7-96eb-4f7e-8c8c-f6f6433c04e1",
   "metadata": {
    "tags": []
   },
   "source": [
    "# Data Science Tools and Ecosystem"
   ]
  },
  {
   "cell_type": "markdown",
   "id": "a790bc5d-2b96-459b-951e-9b871add292d",
   "metadata": {},
   "source": [
    "In this notebook, we are exploring Data Science Tools and Ecosystem."
   ]
  },
  {
   "cell_type": "markdown",
   "id": "995ad61c-47db-4724-ad19-cde92203a2e8",
   "metadata": {},
   "source": [
    "__Objectives:__\n",
    "+ List popular programming languages for Data Science\n",
    "+ List commonly used Data Science libraries\n",
    "+ List development environment open source tools used in Data Science\n",
    "+ Demonstrate usage of simple arithmetic expressions"
   ]
  },
  {
   "cell_type": "markdown",
   "id": "5d3233a5-38dd-4d26-b66b-6d95c5aca6df",
   "metadata": {
    "tags": []
   },
   "source": [
    "Some of the popular programming languages that Data Scientists use include:\n",
    "1. Python\n",
    "2. R\n",
    "3. Julia\n",
    "4. Scala\n",
    "5. SQL\n",
    "6. Java"
   ]
  },
  {
   "cell_type": "markdown",
   "id": "271af925-75d3-442f-ab98-cfdfaf5b13ba",
   "metadata": {
    "tags": []
   },
   "source": [
    "Some of the common libraries used by Data Scientists are:\n",
    "- Panda\n",
    "- NumPy\n",
    "- SciPy\n",
    "- matplotlib  \n",
    "- Seaborn"
   ]
  },
  {
   "cell_type": "markdown",
   "id": "254a3493-b4af-4edc-8abf-979491eed6c1",
   "metadata": {},
   "source": [
    "|Data Science Tools|\n",
    "|---------------------|\n",
    "|JupiterLab|\n",
    "|VS Code|\n",
    "|Google Colaboratory|"
   ]
  },
  {
   "cell_type": "markdown",
   "id": "e55b033f-fe3c-422c-b47a-5f4d6778400c",
   "metadata": {},
   "source": [
    "### Below are some examples of evaluating arithmetic expressions in Python."
   ]
  },
  {
   "cell_type": "code",
   "execution_count": 6,
   "id": "c2578ef4-53ce-4cc8-87c6-b96b00627d48",
   "metadata": {
    "tags": []
   },
   "outputs": [
    {
     "data": {
      "text/plain": [
       "17"
      ]
     },
     "execution_count": 6,
     "metadata": {},
     "output_type": "execute_result"
    }
   ],
   "source": [
    "# Here's an example of a simple arithmetic expression that multiplies two integers and then adds another one\n",
    "(3*4)+5"
   ]
  },
  {
   "cell_type": "code",
   "execution_count": 7,
   "id": "68cdd809-0d78-4227-89c5-aa2e1b01e6e3",
   "metadata": {
    "tags": []
   },
   "outputs": [
    {
     "data": {
      "text/plain": [
       "3.3333333333333335"
      ]
     },
     "execution_count": 7,
     "metadata": {},
     "output_type": "execute_result"
    }
   ],
   "source": [
    "# This will convert 200 minutes to hours, it will do so by dividing by 60\n",
    "200 / 60"
   ]
  },
  {
   "cell_type": "markdown",
   "id": "1ec47c0f-2678-4974-9652-33da3cb7ab2f",
   "metadata": {},
   "source": [
    "## Author\n",
    "Anatoliy Ryabin"
   ]
  }
 ],
 "metadata": {
  "kernelspec": {
   "display_name": "Python",
   "language": "python",
   "name": "conda-env-python-py"
  },
  "language_info": {
   "codemirror_mode": {
    "name": "ipython",
    "version": 3
   },
   "file_extension": ".py",
   "mimetype": "text/x-python",
   "name": "python",
   "nbconvert_exporter": "python",
   "pygments_lexer": "ipython3",
   "version": "3.7.12"
  }
 },
 "nbformat": 4,
 "nbformat_minor": 5
}
